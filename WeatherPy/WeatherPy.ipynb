{
 "cells": [
  {
   "cell_type": "markdown",
   "metadata": {},
   "source": [
    "# WeatherPy\n",
    "\n",
    "---\n",
    "\n",
    "## Starter Code to Generate Random Geographic Coordinates and a List of Cities"
   ]
  },
  {
   "cell_type": "code",
   "execution_count": 1,
   "metadata": {
    "scrolled": true
   },
   "outputs": [],
   "source": [
    "# Dependencies and Setup\n",
    "import matplotlib.pyplot as plt\n",
    "import pandas as pd\n",
    "import numpy as np\n",
    "import requests\n",
    "import time\n",
    "from scipy.stats import linregress\n",
    "\n",
    "# Impor the OpenWeatherMap API key\n",
    "from api_keys import weather_api_key\n",
    "\n",
    "# Import citipy to determine the cities based on latitude and longitude\n",
    "from citipy import citipy"
   ]
  },
  {
   "cell_type": "code",
   "execution_count": 2,
   "metadata": {},
   "outputs": [
    {
     "name": "stdout",
     "output_type": "stream",
     "text": [
      "Requirement already satisfied: citipy in c:\\users\\rushi\\anaconda3\\envs\\pythondata\\lib\\site-packages (0.0.5)\n",
      "Requirement already satisfied: kdtree>=0.12 in c:\\users\\rushi\\anaconda3\\envs\\pythondata\\lib\\site-packages (from citipy) (0.16)\n",
      "Note: you may need to restart the kernel to use updated packages.\n"
     ]
    }
   ],
   "source": [
    "pip install citipy"
   ]
  },
  {
   "cell_type": "markdown",
   "metadata": {},
   "source": [
    "### Generate the Cities List by Using the `citipy` Library"
   ]
  },
  {
   "cell_type": "code",
   "execution_count": 3,
   "metadata": {},
   "outputs": [
    {
     "name": "stdout",
     "output_type": "stream",
     "text": [
      "Number of cities in the list: 610\n"
     ]
    }
   ],
   "source": [
    "# Empty list for holding the latitude and longitude combinations\n",
    "lat_lngs = []\n",
    "\n",
    "# Empty list for holding the cities names\n",
    "cities = []\n",
    "\n",
    "# Range of latitudes and longitudes\n",
    "lat_range = (-90, 90)\n",
    "lng_range = (-180, 180)\n",
    "\n",
    "# Create a set of random lat and lng combinations\n",
    "lats = np.random.uniform(lat_range[0], lat_range[1], size=1500)\n",
    "lngs = np.random.uniform(lng_range[0], lng_range[1], size=1500)\n",
    "lat_lngs = zip(lats, lngs)\n",
    "\n",
    "# Identify nearest city for each lat, lng combination\n",
    "for lat_lng in lat_lngs:\n",
    "    city = citipy.nearest_city(lat_lng[0], lat_lng[1]).city_name\n",
    "    \n",
    "    # If the city is unique, then add it to a our cities list\n",
    "    if city not in cities:\n",
    "        cities.append(city)\n",
    "\n",
    "# Print the city count to confirm sufficient count\n",
    "print(f\"Number of cities in the list: {len(cities)}\")"
   ]
  },
  {
   "cell_type": "markdown",
   "metadata": {},
   "source": [
    "---"
   ]
  },
  {
   "cell_type": "markdown",
   "metadata": {},
   "source": [
    "## Requirement 1: Create Plots to Showcase the Relationship Between Weather Variables and Latitude\n",
    "\n",
    "### Use the OpenWeatherMap API to retrieve weather data from the cities list generated in the started code"
   ]
  },
  {
   "cell_type": "code",
   "execution_count": 4,
   "metadata": {},
   "outputs": [
    {
     "name": "stdout",
     "output_type": "stream",
     "text": [
      "Beginning Data Retrieval     \n",
      "-----------------------------\n",
      "Processing Record 1 of Set 1 | port alfred\n",
      "Processing Record 2 of Set 1 | peniche\n",
      "Processing Record 3 of Set 1 | belaya gora\n",
      "Processing Record 4 of Set 1 | safford\n",
      "Processing Record 5 of Set 1 | chuy\n",
      "Processing Record 6 of Set 1 | mataura\n",
      "Processing Record 7 of Set 1 | busselton\n",
      "Processing Record 8 of Set 1 | madera\n",
      "Processing Record 9 of Set 1 | mar del plata\n",
      "Processing Record 10 of Set 1 | ponta do sol\n",
      "Processing Record 11 of Set 1 | douchy-les-mines\n",
      "Processing Record 12 of Set 1 | cape town\n",
      "Processing Record 13 of Set 1 | alugan\n",
      "Processing Record 14 of Set 1 | namibe\n",
      "Processing Record 15 of Set 1 | alofi\n",
      "Processing Record 16 of Set 1 | nanortalik\n",
      "Processing Record 17 of Set 1 | longyearbyen\n",
      "Processing Record 18 of Set 1 | klaksvik\n",
      "Processing Record 19 of Set 1 | wanning\n",
      "Processing Record 20 of Set 1 | butaritari\n",
      "Processing Record 21 of Set 1 | punta arenas\n",
      "Processing Record 22 of Set 1 | turukhansk\n",
      "Processing Record 23 of Set 1 | los llanos de aridane\n",
      "Processing Record 24 of Set 1 | fairbanks\n",
      "Processing Record 25 of Set 1 | neuquen\n",
      "Processing Record 26 of Set 1 | bluff\n",
      "Processing Record 27 of Set 1 | albany\n",
      "Processing Record 28 of Set 1 | tsihombe\n",
      "City not found. Skipping...\n",
      "Processing Record 29 of Set 1 | xining\n",
      "Processing Record 30 of Set 1 | anadyr\n",
      "Processing Record 31 of Set 1 | kapaa\n",
      "Processing Record 32 of Set 1 | vestmanna\n",
      "Processing Record 33 of Set 1 | atuona\n",
      "Processing Record 34 of Set 1 | goma\n",
      "Processing Record 35 of Set 1 | illoqqortoormiut\n",
      "City not found. Skipping...\n",
      "Processing Record 36 of Set 1 | antofagasta\n",
      "Processing Record 37 of Set 1 | songea\n",
      "Processing Record 38 of Set 1 | ivanava\n",
      "Processing Record 39 of Set 1 | hermanus\n",
      "Processing Record 40 of Set 1 | dharchula\n",
      "Processing Record 41 of Set 1 | tuatapere\n",
      "Processing Record 42 of Set 1 | carnarvon\n",
      "Processing Record 43 of Set 1 | georgetown\n",
      "Processing Record 44 of Set 1 | hobart\n",
      "Processing Record 45 of Set 1 | bengkulu\n",
      "Processing Record 46 of Set 1 | hot springs\n",
      "Processing Record 47 of Set 1 | talavera de la reina\n",
      "Processing Record 48 of Set 1 | upernavik\n",
      "Processing Record 49 of Set 1 | oistins\n",
      "Processing Record 50 of Set 1 | barrow\n",
      "Processing Record 0 of Set 2 | samalaeulu\n",
      "City not found. Skipping...\n",
      "Processing Record 1 of Set 2 | hovd\n",
      "Processing Record 2 of Set 2 | khatanga\n",
      "Processing Record 3 of Set 2 | dingle\n",
      "Processing Record 4 of Set 2 | qaanaaq\n",
      "Processing Record 5 of Set 2 | kavaratti\n",
      "Processing Record 6 of Set 2 | hilo\n",
      "Processing Record 7 of Set 2 | paraiso\n",
      "Processing Record 8 of Set 2 | nizwa\n",
      "Processing Record 9 of Set 2 | san quintin\n",
      "Processing Record 10 of Set 2 | clarence town\n",
      "Processing Record 11 of Set 2 | anloga\n",
      "Processing Record 12 of Set 2 | portland\n",
      "Processing Record 13 of Set 2 | japura\n",
      "Processing Record 14 of Set 2 | tuktoyaktuk\n",
      "Processing Record 15 of Set 2 | puerto ayora\n",
      "Processing Record 16 of Set 2 | ostrovnoy\n",
      "Processing Record 17 of Set 2 | wau\n",
      "Processing Record 18 of Set 2 | alyangula\n",
      "Processing Record 19 of Set 2 | xambioa\n",
      "Processing Record 20 of Set 2 | souillac\n",
      "Processing Record 21 of Set 2 | avarua\n",
      "Processing Record 22 of Set 2 | cabo san lucas\n",
      "Processing Record 23 of Set 2 | taolanaro\n",
      "City not found. Skipping...\n",
      "Processing Record 24 of Set 2 | songkhla\n",
      "Processing Record 25 of Set 2 | nikolskoye\n",
      "Processing Record 26 of Set 2 | hithadhoo\n",
      "Processing Record 27 of Set 2 | rikitea\n",
      "Processing Record 28 of Set 2 | nelson bay\n",
      "Processing Record 29 of Set 2 | mahebourg\n",
      "Processing Record 30 of Set 2 | cidreira\n",
      "Processing Record 31 of Set 2 | touros\n",
      "Processing Record 32 of Set 2 | havelock\n",
      "Processing Record 33 of Set 2 | moron\n",
      "Processing Record 34 of Set 2 | caravelas\n",
      "Processing Record 35 of Set 2 | basco\n",
      "Processing Record 36 of Set 2 | gimli\n",
      "Processing Record 37 of Set 2 | new norfolk\n",
      "Processing Record 38 of Set 2 | esperance\n",
      "Processing Record 39 of Set 2 | seymchan\n",
      "Processing Record 40 of Set 2 | luderitz\n",
      "Processing Record 41 of Set 2 | berezyne\n",
      "Processing Record 42 of Set 2 | cuenca\n",
      "Processing Record 43 of Set 2 | pacifica\n",
      "Processing Record 44 of Set 2 | qaqortoq\n",
      "Processing Record 45 of Set 2 | itum-kale\n",
      "Processing Record 46 of Set 2 | ushuaia\n",
      "Processing Record 47 of Set 2 | bubaque\n",
      "Processing Record 48 of Set 2 | marawi\n",
      "Processing Record 49 of Set 2 | tasiilaq\n",
      "Processing Record 0 of Set 3 | brookings\n",
      "Processing Record 1 of Set 3 | eydhafushi\n",
      "Processing Record 2 of Set 3 | karlskoga\n",
      "Processing Record 3 of Set 3 | hobyo\n",
      "Processing Record 4 of Set 3 | aksaray\n",
      "Processing Record 5 of Set 3 | padang\n",
      "Processing Record 6 of Set 3 | ambon\n",
      "Processing Record 7 of Set 3 | sao joao da barra\n",
      "Processing Record 8 of Set 3 | curico\n",
      "Processing Record 9 of Set 3 | flinders\n",
      "Processing Record 10 of Set 3 | ouargaye\n",
      "Processing Record 11 of Set 3 | neya\n",
      "Processing Record 12 of Set 3 | lavrentiya\n",
      "Processing Record 13 of Set 3 | vilyuysk\n",
      "Processing Record 14 of Set 3 | mitu\n",
      "Processing Record 15 of Set 3 | sungaipenuh\n",
      "Processing Record 16 of Set 3 | castro\n",
      "Processing Record 17 of Set 3 | vaini\n",
      "Processing Record 18 of Set 3 | airai\n",
      "Processing Record 19 of Set 3 | yulara\n",
      "Processing Record 20 of Set 3 | dikson\n",
      "Processing Record 21 of Set 3 | samusu\n",
      "City not found. Skipping...\n",
      "Processing Record 22 of Set 3 | kurilsk\n",
      "Processing Record 23 of Set 3 | utica\n",
      "Processing Record 24 of Set 3 | san vicente\n",
      "Processing Record 25 of Set 3 | teya\n",
      "Processing Record 26 of Set 3 | yellowknife\n",
      "Processing Record 27 of Set 3 | itoman\n",
      "Processing Record 28 of Set 3 | ancud\n",
      "Processing Record 29 of Set 3 | bredasdorp\n",
      "Processing Record 30 of Set 3 | svetlaya\n",
      "Processing Record 31 of Set 3 | huarmey\n",
      "Processing Record 32 of Set 3 | shakhunya\n",
      "Processing Record 33 of Set 3 | monrovia\n",
      "Processing Record 34 of Set 3 | matagami\n",
      "Processing Record 35 of Set 3 | poum\n",
      "Processing Record 36 of Set 3 | tambo\n",
      "Processing Record 37 of Set 3 | jamestown\n",
      "Processing Record 38 of Set 3 | kempsey\n",
      "Processing Record 39 of Set 3 | thongwa\n",
      "Processing Record 40 of Set 3 | ivolginsk\n",
      "Processing Record 41 of Set 3 | pevek\n",
      "Processing Record 42 of Set 3 | provideniya\n",
      "Processing Record 43 of Set 3 | carbondale\n",
      "Processing Record 44 of Set 3 | vao\n",
      "Processing Record 45 of Set 3 | karratha\n",
      "Processing Record 46 of Set 3 | ranfurly\n",
      "Processing Record 47 of Set 3 | anju\n",
      "Processing Record 48 of Set 3 | poltavka\n",
      "Processing Record 49 of Set 3 | zwedru\n",
      "Processing Record 0 of Set 4 | ribeira grande\n",
      "Processing Record 1 of Set 4 | almeirim\n",
      "Processing Record 2 of Set 4 | bantry\n",
      "Processing Record 3 of Set 4 | jubayl\n",
      "City not found. Skipping...\n",
      "Processing Record 4 of Set 4 | vicente guerrero\n",
      "Processing Record 5 of Set 4 | arraial do cabo\n",
      "Processing Record 6 of Set 4 | port elizabeth\n",
      "Processing Record 7 of Set 4 | esmeraldas\n",
      "Processing Record 8 of Set 4 | karoi\n",
      "Processing Record 9 of Set 4 | cabedelo\n",
      "Processing Record 10 of Set 4 | vaitupu\n",
      "City not found. Skipping...\n",
      "Processing Record 11 of Set 4 | araouane\n",
      "Processing Record 12 of Set 4 | leningradskiy\n",
      "Processing Record 13 of Set 4 | severo-kurilsk\n",
      "Processing Record 14 of Set 4 | gushikawa\n",
      "Processing Record 15 of Set 4 | santa teresa\n",
      "Processing Record 16 of Set 4 | buchanan\n",
      "Processing Record 17 of Set 4 | ahuimanu\n",
      "Processing Record 18 of Set 4 | ballina\n",
      "Processing Record 19 of Set 4 | ilulissat\n",
      "Processing Record 20 of Set 4 | east london\n",
      "Processing Record 21 of Set 4 | tabou\n",
      "Processing Record 22 of Set 4 | ambilobe\n",
      "Processing Record 23 of Set 4 | codrington\n",
      "Processing Record 24 of Set 4 | joshimath\n",
      "Processing Record 25 of Set 4 | narsaq\n",
      "Processing Record 26 of Set 4 | mayskiy\n",
      "Processing Record 27 of Set 4 | tumannyy\n",
      "City not found. Skipping...\n",
      "Processing Record 28 of Set 4 | tautira\n",
      "Processing Record 29 of Set 4 | la paz\n",
      "Processing Record 30 of Set 4 | verkhnevilyuysk\n",
      "Processing Record 31 of Set 4 | sentyabrskiy\n",
      "City not found. Skipping...\n",
      "Processing Record 32 of Set 4 | kondinskoye\n",
      "Processing Record 33 of Set 4 | soyo\n",
      "Processing Record 34 of Set 4 | torbay\n",
      "Processing Record 35 of Set 4 | berlevag\n",
      "Processing Record 36 of Set 4 | umzimvubu\n",
      "City not found. Skipping...\n",
      "Processing Record 37 of Set 4 | avera\n",
      "Processing Record 38 of Set 4 | byron bay\n",
      "Processing Record 39 of Set 4 | tyrma\n",
      "Processing Record 40 of Set 4 | tromso\n",
      "Processing Record 41 of Set 4 | yeppoon\n"
     ]
    },
    {
     "name": "stdout",
     "output_type": "stream",
     "text": [
      "Processing Record 42 of Set 4 | atar\n",
      "Processing Record 43 of Set 4 | rungata\n",
      "City not found. Skipping...\n",
      "Processing Record 44 of Set 4 | mercedes\n",
      "Processing Record 45 of Set 4 | lebu\n",
      "Processing Record 46 of Set 4 | belushya guba\n",
      "City not found. Skipping...\n",
      "Processing Record 47 of Set 4 | marabba\n",
      "Processing Record 48 of Set 4 | kaithal\n",
      "Processing Record 49 of Set 4 | barcelos\n",
      "Processing Record 0 of Set 5 | suntar\n",
      "Processing Record 1 of Set 5 | mount gambier\n",
      "Processing Record 2 of Set 5 | tucupita\n",
      "Processing Record 3 of Set 5 | kavieng\n",
      "Processing Record 4 of Set 5 | shache\n",
      "Processing Record 5 of Set 5 | sioux lookout\n",
      "Processing Record 6 of Set 5 | cayenne\n",
      "Processing Record 7 of Set 5 | saint-philippe\n",
      "Processing Record 8 of Set 5 | cortez\n",
      "Processing Record 9 of Set 5 | komsomolskiy\n",
      "Processing Record 10 of Set 5 | kruisfontein\n",
      "Processing Record 11 of Set 5 | nizhneyansk\n",
      "City not found. Skipping...\n",
      "Processing Record 12 of Set 5 | gornoye loo\n",
      "Processing Record 13 of Set 5 | norman wells\n",
      "Processing Record 14 of Set 5 | alexander city\n",
      "Processing Record 15 of Set 5 | hambantota\n",
      "Processing Record 16 of Set 5 | bitung\n",
      "Processing Record 17 of Set 5 | nabire\n",
      "Processing Record 18 of Set 5 | sotouboua\n",
      "Processing Record 19 of Set 5 | pyaozerskiy\n",
      "Processing Record 20 of Set 5 | palabuhanratu\n",
      "City not found. Skipping...\n",
      "Processing Record 21 of Set 5 | ao luk\n",
      "City not found. Skipping...\n",
      "Processing Record 22 of Set 5 | lagoa\n",
      "Processing Record 23 of Set 5 | appleton\n",
      "Processing Record 24 of Set 5 | la cruz\n",
      "Processing Record 25 of Set 5 | saskylakh\n",
      "Processing Record 26 of Set 5 | kaihua\n",
      "Processing Record 27 of Set 5 | lata\n",
      "Processing Record 28 of Set 5 | chokurdakh\n",
      "Processing Record 29 of Set 5 | ngukurr\n",
      "City not found. Skipping...\n",
      "Processing Record 30 of Set 5 | vallenar\n",
      "Processing Record 31 of Set 5 | aflu\n",
      "City not found. Skipping...\n",
      "Processing Record 32 of Set 5 | bilma\n",
      "Processing Record 33 of Set 5 | petauke\n",
      "Processing Record 34 of Set 5 | jawhar\n",
      "Processing Record 35 of Set 5 | troitskoye\n",
      "Processing Record 36 of Set 5 | jian\n",
      "Processing Record 37 of Set 5 | saint george\n",
      "Processing Record 38 of Set 5 | san ramon\n",
      "Processing Record 39 of Set 5 | hami\n",
      "Processing Record 40 of Set 5 | okha\n",
      "Processing Record 41 of Set 5 | kudahuvadhoo\n",
      "Processing Record 42 of Set 5 | uniontown\n",
      "Processing Record 43 of Set 5 | matamoros\n",
      "Processing Record 44 of Set 5 | hlukhiv\n",
      "Processing Record 45 of Set 5 | kasempa\n",
      "Processing Record 46 of Set 5 | taoudenni\n",
      "Processing Record 47 of Set 5 | muros\n",
      "Processing Record 48 of Set 5 | shingu\n",
      "Processing Record 49 of Set 5 | asau\n",
      "Processing Record 0 of Set 6 | imeni babushkina\n",
      "Processing Record 1 of Set 6 | victoria\n",
      "Processing Record 2 of Set 6 | yarmolyntsi\n",
      "Processing Record 3 of Set 6 | nacala\n",
      "Processing Record 4 of Set 6 | santiago de cuba\n",
      "Processing Record 5 of Set 6 | bani walid\n",
      "Processing Record 6 of Set 6 | marrakesh\n",
      "Processing Record 7 of Set 6 | san patricio\n",
      "Processing Record 8 of Set 6 | sitka\n",
      "Processing Record 9 of Set 6 | lompoc\n",
      "Processing Record 10 of Set 6 | saleaula\n",
      "City not found. Skipping...\n",
      "Processing Record 11 of Set 6 | mutsamudu\n",
      "City not found. Skipping...\n",
      "Processing Record 12 of Set 6 | turbat\n",
      "Processing Record 13 of Set 6 | bambous virieux\n",
      "Processing Record 14 of Set 6 | cherskiy\n",
      "Processing Record 15 of Set 6 | richards bay\n",
      "Processing Record 16 of Set 6 | bima\n",
      "Processing Record 17 of Set 6 | rosetta\n",
      "Processing Record 18 of Set 6 | sorvag\n",
      "City not found. Skipping...\n",
      "Processing Record 19 of Set 6 | barentsburg\n",
      "City not found. Skipping...\n",
      "Processing Record 20 of Set 6 | marcona\n",
      "City not found. Skipping...\n",
      "Processing Record 21 of Set 6 | abha\n",
      "Processing Record 22 of Set 6 | san carlos de bariloche\n",
      "Processing Record 23 of Set 6 | urusha\n",
      "Processing Record 24 of Set 6 | quelimane\n",
      "Processing Record 25 of Set 6 | vardo\n",
      "Processing Record 26 of Set 6 | saint-dizier\n",
      "Processing Record 27 of Set 6 | kazalinsk\n",
      "City not found. Skipping...\n",
      "Processing Record 28 of Set 6 | saldanha\n",
      "Processing Record 29 of Set 6 | prince rupert\n",
      "Processing Record 30 of Set 6 | talnakh\n",
      "Processing Record 31 of Set 6 | bathsheba\n",
      "Processing Record 32 of Set 6 | pouebo\n",
      "Processing Record 33 of Set 6 | salalah\n",
      "Processing Record 34 of Set 6 | waingapu\n",
      "Processing Record 35 of Set 6 | warburton\n",
      "Processing Record 36 of Set 6 | sayyan\n",
      "Processing Record 37 of Set 6 | acapulco\n",
      "Processing Record 38 of Set 6 | sao filipe\n",
      "Processing Record 39 of Set 6 | wladyslawowo\n",
      "Processing Record 40 of Set 6 | karkaralinsk\n",
      "City not found. Skipping...\n",
      "Processing Record 41 of Set 6 | taltal\n",
      "Processing Record 42 of Set 6 | beloha\n",
      "Processing Record 43 of Set 6 | andenes\n",
      "Processing Record 44 of Set 6 | hattiesburg\n",
      "Processing Record 45 of Set 6 | chiang kham\n",
      "Processing Record 46 of Set 6 | chifeng\n",
      "Processing Record 47 of Set 6 | warqla\n",
      "City not found. Skipping...\n",
      "Processing Record 48 of Set 6 | aykino\n",
      "Processing Record 49 of Set 6 | nhamunda\n",
      "Processing Record 0 of Set 7 | doembang nangbuat\n",
      "Processing Record 1 of Set 7 | oum hadjer\n",
      "Processing Record 2 of Set 7 | thompson\n",
      "Processing Record 3 of Set 7 | nago\n",
      "Processing Record 4 of Set 7 | kununurra\n",
      "Processing Record 5 of Set 7 | port lincoln\n",
      "Processing Record 6 of Set 7 | bilibino\n",
      "Processing Record 7 of Set 7 | coos bay\n",
      "Processing Record 8 of Set 7 | makkaveyevo\n",
      "Processing Record 9 of Set 7 | belyy yar\n",
      "Processing Record 10 of Set 7 | pisco\n",
      "Processing Record 11 of Set 7 | kidal\n",
      "Processing Record 12 of Set 7 | mangan\n",
      "Processing Record 13 of Set 7 | lida\n",
      "Processing Record 14 of Set 7 | karbinci\n",
      "Processing Record 15 of Set 7 | kaitangata\n",
      "Processing Record 16 of Set 7 | zhezkazgan\n",
      "Processing Record 17 of Set 7 | bur gabo\n",
      "City not found. Skipping...\n",
      "Processing Record 18 of Set 7 | iqaluit\n",
      "Processing Record 19 of Set 7 | bonavista\n",
      "Processing Record 20 of Set 7 | port blair\n",
      "Processing Record 21 of Set 7 | moose factory\n",
      "Processing Record 22 of Set 7 | namatanai\n",
      "Processing Record 23 of Set 7 | sisimiut\n",
      "Processing Record 24 of Set 7 | maniitsoq\n",
      "Processing Record 25 of Set 7 | folldal\n",
      "Processing Record 26 of Set 7 | egvekinot\n",
      "Processing Record 27 of Set 7 | bongandanga\n",
      "Processing Record 28 of Set 7 | attawapiskat\n",
      "City not found. Skipping...\n",
      "Processing Record 29 of Set 7 | wakkanai\n",
      "Processing Record 30 of Set 7 | huilong\n",
      "Processing Record 31 of Set 7 | lolua\n",
      "City not found. Skipping...\n",
      "Processing Record 32 of Set 7 | natal\n",
      "Processing Record 33 of Set 7 | vysokogornyy\n",
      "Processing Record 34 of Set 7 | brokopondo\n",
      "Processing Record 35 of Set 7 | goderich\n",
      "Processing Record 36 of Set 7 | roma\n",
      "Processing Record 37 of Set 7 | puerto baquerizo moreno\n",
      "Processing Record 38 of Set 7 | chagda\n",
      "City not found. Skipping...\n",
      "Processing Record 39 of Set 7 | lufkin\n",
      "Processing Record 40 of Set 7 | wakefield\n",
      "Processing Record 41 of Set 7 | alta floresta\n",
      "Processing Record 42 of Set 7 | porto novo\n",
      "Processing Record 43 of Set 7 | susanville\n",
      "Processing Record 44 of Set 7 | ahipara\n",
      "Processing Record 45 of Set 7 | mizdah\n",
      "Processing Record 46 of Set 7 | ulaanbaatar\n",
      "Processing Record 47 of Set 7 | tiksi\n",
      "Processing Record 48 of Set 7 | bargal\n",
      "City not found. Skipping...\n",
      "Processing Record 49 of Set 7 | san jeronimo\n",
      "Processing Record 0 of Set 8 | shaki\n",
      "Processing Record 1 of Set 8 | kahului\n",
      "Processing Record 2 of Set 8 | luganville\n",
      "Processing Record 3 of Set 8 | arkhipo-osipovka\n",
      "Processing Record 4 of Set 8 | clyde river\n",
      "Processing Record 5 of Set 8 | voyvozh\n",
      "Processing Record 6 of Set 8 | jinchengjiang\n",
      "City not found. Skipping...\n",
      "Processing Record 7 of Set 8 | tukrah\n",
      "Processing Record 8 of Set 8 | ayame\n",
      "Processing Record 9 of Set 8 | sambava\n",
      "Processing Record 10 of Set 8 | dakar\n",
      "Processing Record 11 of Set 8 | khandyga\n",
      "Processing Record 12 of Set 8 | marienburg\n",
      "Processing Record 13 of Set 8 | isangel\n",
      "Processing Record 14 of Set 8 | sola\n",
      "Processing Record 15 of Set 8 | ust-kachka\n",
      "Processing Record 16 of Set 8 | teluk nibung\n",
      "Processing Record 17 of Set 8 | aguimes\n",
      "Processing Record 18 of Set 8 | san antonio\n",
      "Processing Record 19 of Set 8 | tomatlan\n",
      "Processing Record 20 of Set 8 | svetlogorsk\n",
      "Processing Record 21 of Set 8 | pangnirtung\n",
      "Processing Record 22 of Set 8 | ocampo\n",
      "Processing Record 23 of Set 8 | srednekolymsk\n",
      "Processing Record 24 of Set 8 | yura\n",
      "Processing Record 25 of Set 8 | mayor pablo lagerenza\n"
     ]
    },
    {
     "name": "stdout",
     "output_type": "stream",
     "text": [
      "Processing Record 26 of Set 8 | mantua\n",
      "Processing Record 27 of Set 8 | singaparna\n",
      "Processing Record 28 of Set 8 | helena\n",
      "Processing Record 29 of Set 8 | prainha\n",
      "Processing Record 30 of Set 8 | husavik\n",
      "Processing Record 31 of Set 8 | kodiak\n",
      "Processing Record 32 of Set 8 | te anau\n",
      "Processing Record 33 of Set 8 | coquimbo\n",
      "Processing Record 34 of Set 8 | ust-ishim\n",
      "Processing Record 35 of Set 8 | birr\n",
      "Processing Record 36 of Set 8 | aquiraz\n",
      "Processing Record 37 of Set 8 | faanui\n",
      "Processing Record 38 of Set 8 | yerofey pavlovich\n",
      "Processing Record 39 of Set 8 | nikel\n",
      "Processing Record 40 of Set 8 | kargasok\n",
      "Processing Record 41 of Set 8 | hervey bay\n",
      "Processing Record 42 of Set 8 | saint-joseph\n",
      "Processing Record 43 of Set 8 | dudinka\n",
      "Processing Record 44 of Set 8 | geraldton\n",
      "Processing Record 45 of Set 8 | kapuskasing\n",
      "Processing Record 46 of Set 8 | la ronge\n",
      "Processing Record 47 of Set 8 | mamit\n",
      "Processing Record 48 of Set 8 | dzaoudzi\n",
      "Processing Record 49 of Set 8 | samarai\n",
      "Processing Record 0 of Set 9 | sakakah\n",
      "Processing Record 1 of Set 9 | meulaboh\n",
      "Processing Record 2 of Set 9 | adjumani\n",
      "Processing Record 3 of Set 9 | diego de almagro\n",
      "Processing Record 4 of Set 9 | phan rang\n",
      "City not found. Skipping...\n",
      "Processing Record 5 of Set 9 | amarante\n",
      "Processing Record 6 of Set 9 | sept-iles\n",
      "Processing Record 7 of Set 9 | vila franca do campo\n",
      "Processing Record 8 of Set 9 | honningsvag\n",
      "Processing Record 9 of Set 9 | safaga\n",
      "Processing Record 10 of Set 9 | alamor\n",
      "Processing Record 11 of Set 9 | burnie\n",
      "Processing Record 12 of Set 9 | indramayu\n",
      "Processing Record 13 of Set 9 | mahanje\n",
      "Processing Record 14 of Set 9 | maputo\n",
      "Processing Record 15 of Set 9 | xiaoweizhai\n",
      "Processing Record 16 of Set 9 | coihaique\n",
      "Processing Record 17 of Set 9 | camacha\n",
      "Processing Record 18 of Set 9 | saint augustine\n",
      "Processing Record 19 of Set 9 | tagusao\n",
      "Processing Record 20 of Set 9 | alice springs\n",
      "Processing Record 21 of Set 9 | the pas\n",
      "Processing Record 22 of Set 9 | inhambane\n",
      "Processing Record 23 of Set 9 | raglan\n",
      "Processing Record 24 of Set 9 | nosy varika\n",
      "Processing Record 25 of Set 9 | ovre ardal\n",
      "Processing Record 26 of Set 9 | cotonou\n",
      "Processing Record 27 of Set 9 | port hardy\n",
      "Processing Record 28 of Set 9 | tongling\n",
      "Processing Record 29 of Set 9 | gazanjyk\n",
      "Processing Record 30 of Set 9 | cam ranh\n",
      "Processing Record 31 of Set 9 | aklavik\n",
      "Processing Record 32 of Set 9 | damnagar\n",
      "Processing Record 33 of Set 9 | katsiveli\n",
      "City not found. Skipping...\n",
      "Processing Record 34 of Set 9 | albert lea\n",
      "Processing Record 35 of Set 9 | chuguyevka\n",
      "Processing Record 36 of Set 9 | birjand\n",
      "Processing Record 37 of Set 9 | bethel\n",
      "Processing Record 38 of Set 9 | fukue\n",
      "Processing Record 39 of Set 9 | fortuna\n",
      "Processing Record 40 of Set 9 | horconcitos\n",
      "Processing Record 41 of Set 9 | jatibonico\n",
      "Processing Record 42 of Set 9 | sal rei\n",
      "Processing Record 43 of Set 9 | katobu\n",
      "Processing Record 44 of Set 9 | megion\n",
      "Processing Record 45 of Set 9 | san carlos\n",
      "Processing Record 46 of Set 9 | mwinilunga\n",
      "Processing Record 47 of Set 9 | ketchikan\n",
      "Processing Record 48 of Set 9 | grand river south east\n",
      "City not found. Skipping...\n",
      "Processing Record 49 of Set 9 | highland springs\n",
      "Processing Record 0 of Set 10 | togur\n",
      "Processing Record 1 of Set 10 | barra do garcas\n",
      "Processing Record 2 of Set 10 | aykhal\n",
      "Processing Record 3 of Set 10 | maningrida\n",
      "Processing Record 4 of Set 10 | saryshagan\n",
      "City not found. Skipping...\n",
      "Processing Record 5 of Set 10 | pacific grove\n",
      "Processing Record 6 of Set 10 | sassandra\n",
      "Processing Record 7 of Set 10 | bokspits\n",
      "City not found. Skipping...\n",
      "Processing Record 8 of Set 10 | amderma\n",
      "City not found. Skipping...\n",
      "Processing Record 9 of Set 10 | margate\n",
      "Processing Record 10 of Set 10 | yatou\n",
      "Processing Record 11 of Set 10 | verkhnyaya inta\n",
      "Processing Record 12 of Set 10 | armidale\n",
      "Processing Record 13 of Set 10 | formoso do araguaia\n",
      "City not found. Skipping...\n",
      "Processing Record 14 of Set 10 | liverpool\n",
      "Processing Record 15 of Set 10 | faya\n",
      "Processing Record 16 of Set 10 | kutum\n",
      "Processing Record 17 of Set 10 | fillan\n",
      "Processing Record 18 of Set 10 | bergen\n",
      "Processing Record 19 of Set 10 | havoysund\n",
      "Processing Record 20 of Set 10 | mys shmidta\n",
      "City not found. Skipping...\n",
      "Processing Record 21 of Set 10 | constitucion\n",
      "Processing Record 22 of Set 10 | olafsvik\n",
      "Processing Record 23 of Set 10 | obo\n",
      "Processing Record 24 of Set 10 | salmo\n",
      "Processing Record 25 of Set 10 | labrea\n",
      "Processing Record 26 of Set 10 | doctor arroyo\n",
      "Processing Record 27 of Set 10 | adrar\n",
      "Processing Record 28 of Set 10 | isla mujeres\n",
      "Processing Record 29 of Set 10 | gao\n",
      "Processing Record 30 of Set 10 | arlit\n",
      "Processing Record 31 of Set 10 | kirzhach\n",
      "Processing Record 32 of Set 10 | illela\n",
      "Processing Record 33 of Set 10 | lahij\n",
      "Processing Record 34 of Set 10 | ilhabela\n",
      "Processing Record 35 of Set 10 | plettenberg bay\n",
      "Processing Record 36 of Set 10 | mulchen\n",
      "Processing Record 37 of Set 10 | northam\n",
      "Processing Record 38 of Set 10 | kathu\n",
      "Processing Record 39 of Set 10 | ayna\n",
      "Processing Record 40 of Set 10 | les cayes\n",
      "Processing Record 41 of Set 10 | abrud\n",
      "Processing Record 42 of Set 10 | biak\n",
      "Processing Record 43 of Set 10 | chegem\n",
      "Processing Record 44 of Set 10 | usinsk\n",
      "Processing Record 45 of Set 10 | puerto colombia\n",
      "Processing Record 46 of Set 10 | cumaribo\n",
      "City not found. Skipping...\n",
      "Processing Record 47 of Set 10 | puerto pinasco\n",
      "City not found. Skipping...\n",
      "Processing Record 48 of Set 10 | avesta\n",
      "Processing Record 49 of Set 10 | shipitsyno\n",
      "Processing Record 0 of Set 11 | lanzhou\n",
      "Processing Record 1 of Set 11 | kawana waters\n",
      "City not found. Skipping...\n",
      "Processing Record 2 of Set 11 | khor\n",
      "Processing Record 3 of Set 11 | flin flon\n",
      "Processing Record 4 of Set 11 | haines junction\n",
      "Processing Record 5 of Set 11 | rize\n",
      "Processing Record 6 of Set 11 | kieta\n",
      "Processing Record 7 of Set 11 | wattegama\n",
      "Processing Record 8 of Set 11 | kamenskoye\n",
      "City not found. Skipping...\n",
      "Processing Record 9 of Set 11 | buala\n",
      "Processing Record 10 of Set 11 | haibowan\n",
      "City not found. Skipping...\n",
      "Processing Record 11 of Set 11 | mandera\n",
      "Processing Record 12 of Set 11 | caernarfon\n",
      "Processing Record 13 of Set 11 | kilindoni\n",
      "Processing Record 14 of Set 11 | darhan\n",
      "Processing Record 15 of Set 11 | talcahuano\n",
      "Processing Record 16 of Set 11 | nome\n",
      "Processing Record 17 of Set 11 | little current\n",
      "Processing Record 18 of Set 11 | grand-lahou\n",
      "Processing Record 19 of Set 11 | vanavara\n",
      "Processing Record 20 of Set 11 | mount isa\n",
      "Processing Record 21 of Set 11 | bara\n",
      "Processing Record 22 of Set 11 | fairview\n",
      "Processing Record 23 of Set 11 | edd\n",
      "Processing Record 24 of Set 11 | yongan\n",
      "Processing Record 25 of Set 11 | estelle\n",
      "Processing Record 26 of Set 11 | cookshire\n",
      "City not found. Skipping...\n",
      "Processing Record 27 of Set 11 | trairi\n",
      "Processing Record 28 of Set 11 | umm lajj\n",
      "Processing Record 29 of Set 11 | le port\n",
      "Processing Record 30 of Set 11 | waitati\n",
      "Processing Record 31 of Set 11 | saint-pierre\n",
      "Processing Record 32 of Set 11 | kholm\n",
      "Processing Record 33 of Set 11 | ouesso\n",
      "Processing Record 34 of Set 11 | ayorou\n",
      "Processing Record 35 of Set 11 | vanimo\n",
      "Processing Record 36 of Set 11 | chatellerault\n",
      "Processing Record 37 of Set 11 | tilichiki\n",
      "Processing Record 38 of Set 11 | leshukonskoye\n",
      "Processing Record 39 of Set 11 | tapaua\n",
      "City not found. Skipping...\n",
      "Processing Record 40 of Set 11 | shenjiamen\n",
      "Processing Record 41 of Set 11 | ovruch\n",
      "Processing Record 42 of Set 11 | san jose\n",
      "Processing Record 43 of Set 11 | simao\n",
      "Processing Record 44 of Set 11 | san juan de uraba\n",
      "Processing Record 45 of Set 11 | marathon\n",
      "Processing Record 46 of Set 11 | marsa matruh\n",
      "Processing Record 47 of Set 11 | dandong\n",
      "Processing Record 48 of Set 11 | rutul\n",
      "Processing Record 49 of Set 11 | baykit\n",
      "Processing Record 0 of Set 12 | jawa\n",
      "Processing Record 1 of Set 12 | pavlodar\n",
      "Processing Record 2 of Set 12 | aksarka\n",
      "Processing Record 3 of Set 12 | carolina\n",
      "Processing Record 4 of Set 12 | lashio\n",
      "Processing Record 5 of Set 12 | am timan\n",
      "Processing Record 6 of Set 12 | eureka\n",
      "Processing Record 7 of Set 12 | othonoi\n",
      "City not found. Skipping...\n",
      "Processing Record 8 of Set 12 | parabel\n",
      "Processing Record 9 of Set 12 | nguiu\n",
      "City not found. Skipping...\n",
      "Processing Record 10 of Set 12 | san cristobal\n",
      "Processing Record 11 of Set 12 | tura\n"
     ]
    },
    {
     "name": "stdout",
     "output_type": "stream",
     "text": [
      "Processing Record 12 of Set 12 | riyadh\n",
      "Processing Record 13 of Set 12 | sibiti\n",
      "Processing Record 14 of Set 12 | brae\n",
      "Processing Record 15 of Set 12 | dicabisagan\n",
      "Processing Record 16 of Set 12 | gat\n",
      "Processing Record 17 of Set 12 | kaoma\n",
      "Processing Record 18 of Set 12 | celestun\n",
      "Processing Record 19 of Set 12 | hyeres\n",
      "Processing Record 20 of Set 12 | jalu\n",
      "Processing Record 21 of Set 12 | aktash\n",
      "Processing Record 22 of Set 12 | eirunepe\n",
      "Processing Record 23 of Set 12 | nhulunbuy\n",
      "Processing Record 24 of Set 12 | grand gaube\n",
      "Processing Record 25 of Set 12 | bundaberg\n",
      "Processing Record 26 of Set 12 | marzuq\n",
      "Processing Record 27 of Set 12 | gollere\n",
      "City not found. Skipping...\n",
      "Processing Record 28 of Set 12 | villa bruzual\n",
      "Processing Record 29 of Set 12 | puerto madryn\n",
      "Processing Record 30 of Set 12 | antalaha\n",
      "Processing Record 31 of Set 12 | teshie\n",
      "Processing Record 32 of Set 12 | lewisporte\n",
      "Processing Record 33 of Set 12 | pakokku\n",
      "Processing Record 34 of Set 12 | conceicao do araguaia\n",
      "Processing Record 35 of Set 12 | ust-omchug\n",
      "Processing Record 36 of Set 12 | ekhabi\n",
      "Processing Record 37 of Set 12 | nishihara\n",
      "Processing Record 38 of Set 12 | liaqatabad\n",
      "Processing Record 39 of Set 12 | bage\n",
      "Processing Record 40 of Set 12 | canutama\n",
      "Processing Record 41 of Set 12 | itaocara\n",
      "Processing Record 42 of Set 12 | gigmoto\n",
      "Processing Record 43 of Set 12 | tanjong tokong\n",
      "City not found. Skipping...\n",
      "Processing Record 44 of Set 12 | keti bandar\n",
      "Processing Record 45 of Set 12 | bondo\n",
      "Processing Record 46 of Set 12 | atambua\n",
      "Processing Record 47 of Set 12 | orsha\n",
      "Processing Record 48 of Set 12 | naze\n",
      "Processing Record 49 of Set 12 | berdigestyakh\n",
      "Processing Record 0 of Set 13 | kendallville\n",
      "Processing Record 1 of Set 13 | lima\n",
      "Processing Record 2 of Set 13 | taguatinga\n",
      "Processing Record 3 of Set 13 | tabialan\n",
      "City not found. Skipping...\n",
      "Processing Record 4 of Set 13 | dickinson\n",
      "Processing Record 5 of Set 13 | jacmel\n",
      "Processing Record 6 of Set 13 | pokhara\n",
      "Processing Record 7 of Set 13 | murud\n",
      "Processing Record 8 of Set 13 | ishigaki\n",
      "Processing Record 9 of Set 13 | koutsouras\n",
      "-----------------------------\n",
      "Data Retrieval Complete      \n",
      "-----------------------------\n"
     ]
    }
   ],
   "source": [
    "# Set the API base URL\n",
    "url = f\"http://api.openweathermap.org/data/2.5/weather?units=Imperial&APPID={weather_api_key}\"\n",
    "\n",
    "# Define an empty list to fetch the weather data for each city\n",
    "city_data = []\n",
    "\n",
    "# Print to logger\n",
    "print(\"Beginning Data Retrieval     \")\n",
    "print(\"-----------------------------\")\n",
    "\n",
    "# Create counters\n",
    "record_count = 1\n",
    "set_count = 1\n",
    "\n",
    "# Loop through all the cities in our list to fetch weather data\n",
    "for i, city in enumerate(cities):\n",
    "        \n",
    "    # Group cities in sets of 50 for logging purposes\n",
    "    if (i % 50 == 0 and i >= 50):\n",
    "        set_count += 1\n",
    "        record_count = 0\n",
    "\n",
    "    # Create endpoint URL with each city\n",
    "    city_url = url + \"&q=\" + city\n",
    "    \n",
    "    # Log the url, record, and set numbers\n",
    "    print(\"Processing Record %s of Set %s | %s\" % (record_count, set_count, city))\n",
    "\n",
    "    # Add 1 to the record count\n",
    "    record_count += 1\n",
    "\n",
    "    # Run an API request for each of the cities\n",
    "    try:\n",
    "        # Parse the JSON and retrieve data\n",
    "        city_weather = requests.get(city_url).json()\n",
    "\n",
    "        # Parse out latitude, longitude, max temp, humidity, cloudiness, wind speed, country, and date\n",
    "        city_lat = city_weather[\"coord\"][\"lat\"]\n",
    "        city_lng = city_weather[\"coord\"][\"lon\"]\n",
    "        city_max_temp = city_weather[\"main\"][\"temp_max\"]\n",
    "        city_humidity = city_weather[\"main\"][\"humidity\"]\n",
    "        city_clouds = city_weather[\"clouds\"][\"all\"]\n",
    "        city_wind = city_weather[\"wind\"][\"speed\"]\n",
    "        city_country = city_weather[\"sys\"][\"country\"]\n",
    "        city_date = city_weather[\"dt\"]\n",
    "\n",
    "        # Append the City information into city_data list\n",
    "        city_data.append({\"City\": city, \n",
    "                          \"Lat\": city_lat, \n",
    "                          \"Lng\": city_lng, \n",
    "                          \"Max Temp\": city_max_temp,\n",
    "                          \"Humidity\": city_humidity,\n",
    "                          \"Cloudiness\": city_clouds,\n",
    "                          \"Wind Speed\": city_wind,\n",
    "                          \"Country\": city_country,\n",
    "                          \"Date\": city_date})\n",
    "\n",
    "    # If an error is experienced, skip the city\n",
    "    except:\n",
    "        print(\"City not found. Skipping...\")\n",
    "        pass\n",
    "              \n",
    "# Indicate that Data Loading is complete \n",
    "print(\"-----------------------------\")\n",
    "print(\"Data Retrieval Complete      \")\n",
    "print(\"-----------------------------\")"
   ]
  },
  {
   "cell_type": "code",
   "execution_count": 5,
   "metadata": {},
   "outputs": [
    {
     "data": {
      "text/plain": [
       "City          559\n",
       "Lat           559\n",
       "Lng           559\n",
       "Max Temp      559\n",
       "Humidity      559\n",
       "Cloudiness    559\n",
       "Wind Speed    559\n",
       "Country       559\n",
       "Date          559\n",
       "dtype: int64"
      ]
     },
     "execution_count": 5,
     "metadata": {},
     "output_type": "execute_result"
    }
   ],
   "source": [
    "# Convert the cities weather data into a Pandas DataFrame\n",
    "city_data_df = pd.DataFrame(city_data)\n",
    "\n",
    "# Show Record Count\n",
    "city_data_df.count()"
   ]
  },
  {
   "cell_type": "code",
   "execution_count": 6,
   "metadata": {},
   "outputs": [
    {
     "data": {
      "text/html": [
       "<div>\n",
       "<style scoped>\n",
       "    .dataframe tbody tr th:only-of-type {\n",
       "        vertical-align: middle;\n",
       "    }\n",
       "\n",
       "    .dataframe tbody tr th {\n",
       "        vertical-align: top;\n",
       "    }\n",
       "\n",
       "    .dataframe thead th {\n",
       "        text-align: right;\n",
       "    }\n",
       "</style>\n",
       "<table border=\"1\" class=\"dataframe\">\n",
       "  <thead>\n",
       "    <tr style=\"text-align: right;\">\n",
       "      <th></th>\n",
       "      <th>City</th>\n",
       "      <th>Lat</th>\n",
       "      <th>Lng</th>\n",
       "      <th>Max Temp</th>\n",
       "      <th>Humidity</th>\n",
       "      <th>Cloudiness</th>\n",
       "      <th>Wind Speed</th>\n",
       "      <th>Country</th>\n",
       "      <th>Date</th>\n",
       "    </tr>\n",
       "  </thead>\n",
       "  <tbody>\n",
       "    <tr>\n",
       "      <th>0</th>\n",
       "      <td>port alfred</td>\n",
       "      <td>-33.5906</td>\n",
       "      <td>26.8910</td>\n",
       "      <td>70.18</td>\n",
       "      <td>91</td>\n",
       "      <td>100</td>\n",
       "      <td>1.99</td>\n",
       "      <td>ZA</td>\n",
       "      <td>1675807397</td>\n",
       "    </tr>\n",
       "    <tr>\n",
       "      <th>1</th>\n",
       "      <td>peniche</td>\n",
       "      <td>39.3558</td>\n",
       "      <td>-9.3811</td>\n",
       "      <td>49.44</td>\n",
       "      <td>76</td>\n",
       "      <td>4</td>\n",
       "      <td>7.11</td>\n",
       "      <td>PT</td>\n",
       "      <td>1675807397</td>\n",
       "    </tr>\n",
       "    <tr>\n",
       "      <th>2</th>\n",
       "      <td>belaya gora</td>\n",
       "      <td>68.5333</td>\n",
       "      <td>146.4167</td>\n",
       "      <td>-46.50</td>\n",
       "      <td>100</td>\n",
       "      <td>96</td>\n",
       "      <td>2.57</td>\n",
       "      <td>RU</td>\n",
       "      <td>1675807182</td>\n",
       "    </tr>\n",
       "    <tr>\n",
       "      <th>3</th>\n",
       "      <td>safford</td>\n",
       "      <td>32.8340</td>\n",
       "      <td>-109.7076</td>\n",
       "      <td>58.75</td>\n",
       "      <td>24</td>\n",
       "      <td>75</td>\n",
       "      <td>8.01</td>\n",
       "      <td>US</td>\n",
       "      <td>1675807405</td>\n",
       "    </tr>\n",
       "    <tr>\n",
       "      <th>4</th>\n",
       "      <td>chuy</td>\n",
       "      <td>-33.6971</td>\n",
       "      <td>-53.4616</td>\n",
       "      <td>75.85</td>\n",
       "      <td>66</td>\n",
       "      <td>0</td>\n",
       "      <td>10.78</td>\n",
       "      <td>UY</td>\n",
       "      <td>1675807406</td>\n",
       "    </tr>\n",
       "  </tbody>\n",
       "</table>\n",
       "</div>"
      ],
      "text/plain": [
       "          City      Lat       Lng  Max Temp  Humidity  Cloudiness  Wind Speed  \\\n",
       "0  port alfred -33.5906   26.8910     70.18        91         100        1.99   \n",
       "1      peniche  39.3558   -9.3811     49.44        76           4        7.11   \n",
       "2  belaya gora  68.5333  146.4167    -46.50       100          96        2.57   \n",
       "3      safford  32.8340 -109.7076     58.75        24          75        8.01   \n",
       "4         chuy -33.6971  -53.4616     75.85        66           0       10.78   \n",
       "\n",
       "  Country        Date  \n",
       "0      ZA  1675807397  \n",
       "1      PT  1675807397  \n",
       "2      RU  1675807182  \n",
       "3      US  1675807405  \n",
       "4      UY  1675807406  "
      ]
     },
     "execution_count": 6,
     "metadata": {},
     "output_type": "execute_result"
    }
   ],
   "source": [
    "# Display sample data\n",
    "city_data_df.head()"
   ]
  },
  {
   "cell_type": "code",
   "execution_count": 7,
   "metadata": {},
   "outputs": [],
   "source": [
    "# Export the City_Data into a csv\n",
    "city_data_df.to_csv(\"output.csv\", index_label=\"City_ID\")"
   ]
  },
  {
   "cell_type": "code",
   "execution_count": 8,
   "metadata": {},
   "outputs": [
    {
     "data": {
      "text/html": [
       "<div>\n",
       "<style scoped>\n",
       "    .dataframe tbody tr th:only-of-type {\n",
       "        vertical-align: middle;\n",
       "    }\n",
       "\n",
       "    .dataframe tbody tr th {\n",
       "        vertical-align: top;\n",
       "    }\n",
       "\n",
       "    .dataframe thead th {\n",
       "        text-align: right;\n",
       "    }\n",
       "</style>\n",
       "<table border=\"1\" class=\"dataframe\">\n",
       "  <thead>\n",
       "    <tr style=\"text-align: right;\">\n",
       "      <th></th>\n",
       "      <th>City</th>\n",
       "      <th>Lat</th>\n",
       "      <th>Lng</th>\n",
       "      <th>Max Temp</th>\n",
       "      <th>Humidity</th>\n",
       "      <th>Cloudiness</th>\n",
       "      <th>Wind Speed</th>\n",
       "      <th>Country</th>\n",
       "      <th>Date</th>\n",
       "    </tr>\n",
       "    <tr>\n",
       "      <th>City_ID</th>\n",
       "      <th></th>\n",
       "      <th></th>\n",
       "      <th></th>\n",
       "      <th></th>\n",
       "      <th></th>\n",
       "      <th></th>\n",
       "      <th></th>\n",
       "      <th></th>\n",
       "      <th></th>\n",
       "    </tr>\n",
       "  </thead>\n",
       "  <tbody>\n",
       "    <tr>\n",
       "      <th>0</th>\n",
       "      <td>port alfred</td>\n",
       "      <td>-33.5906</td>\n",
       "      <td>26.8910</td>\n",
       "      <td>70.18</td>\n",
       "      <td>91</td>\n",
       "      <td>100</td>\n",
       "      <td>1.99</td>\n",
       "      <td>ZA</td>\n",
       "      <td>1675807397</td>\n",
       "    </tr>\n",
       "    <tr>\n",
       "      <th>1</th>\n",
       "      <td>peniche</td>\n",
       "      <td>39.3558</td>\n",
       "      <td>-9.3811</td>\n",
       "      <td>49.44</td>\n",
       "      <td>76</td>\n",
       "      <td>4</td>\n",
       "      <td>7.11</td>\n",
       "      <td>PT</td>\n",
       "      <td>1675807397</td>\n",
       "    </tr>\n",
       "    <tr>\n",
       "      <th>2</th>\n",
       "      <td>belaya gora</td>\n",
       "      <td>68.5333</td>\n",
       "      <td>146.4167</td>\n",
       "      <td>-46.50</td>\n",
       "      <td>100</td>\n",
       "      <td>96</td>\n",
       "      <td>2.57</td>\n",
       "      <td>RU</td>\n",
       "      <td>1675807182</td>\n",
       "    </tr>\n",
       "    <tr>\n",
       "      <th>3</th>\n",
       "      <td>safford</td>\n",
       "      <td>32.8340</td>\n",
       "      <td>-109.7076</td>\n",
       "      <td>58.75</td>\n",
       "      <td>24</td>\n",
       "      <td>75</td>\n",
       "      <td>8.01</td>\n",
       "      <td>US</td>\n",
       "      <td>1675807405</td>\n",
       "    </tr>\n",
       "    <tr>\n",
       "      <th>4</th>\n",
       "      <td>chuy</td>\n",
       "      <td>-33.6971</td>\n",
       "      <td>-53.4616</td>\n",
       "      <td>75.85</td>\n",
       "      <td>66</td>\n",
       "      <td>0</td>\n",
       "      <td>10.78</td>\n",
       "      <td>UY</td>\n",
       "      <td>1675807406</td>\n",
       "    </tr>\n",
       "  </tbody>\n",
       "</table>\n",
       "</div>"
      ],
      "text/plain": [
       "                City      Lat       Lng  Max Temp  Humidity  Cloudiness  \\\n",
       "City_ID                                                                   \n",
       "0        port alfred -33.5906   26.8910     70.18        91         100   \n",
       "1            peniche  39.3558   -9.3811     49.44        76           4   \n",
       "2        belaya gora  68.5333  146.4167    -46.50       100          96   \n",
       "3            safford  32.8340 -109.7076     58.75        24          75   \n",
       "4               chuy -33.6971  -53.4616     75.85        66           0   \n",
       "\n",
       "         Wind Speed Country        Date  \n",
       "City_ID                                  \n",
       "0              1.99      ZA  1675807397  \n",
       "1              7.11      PT  1675807397  \n",
       "2              2.57      RU  1675807182  \n",
       "3              8.01      US  1675807405  \n",
       "4             10.78      UY  1675807406  "
      ]
     },
     "execution_count": 8,
     "metadata": {},
     "output_type": "execute_result"
    }
   ],
   "source": [
    "# Read saved data\n",
    "city_data_df = pd.read_csv(\"output.csv\", index_col=\"City_ID\")\n",
    "\n",
    "# Display sample data\n",
    "city_data_df.head()"
   ]
  },
  {
   "cell_type": "markdown",
   "metadata": {},
   "source": [
    "### Create the Scatter Plots Requested\n",
    "\n",
    "#### Latitude Vs. Temperature"
   ]
  },
  {
   "cell_type": "code",
   "execution_count": 9,
   "metadata": {
    "tags": []
   },
   "outputs": [
    {
     "data": {
      "image/png": "[encoded data removed]",
      "text/plain": [
       "<Figure size 432x288 with 1 Axes>"
      ]
     },
     "metadata": {
      "needs_background": "light"
     },
     "output_type": "display_data"
    }
   ],
   "source": [
    "# Build scatter plot for latitude vs. temperature\n",
    "\n",
    "x_axis = city_data_df['Lat']\n",
    "y_axis = city_data_df['Max Temp']\n",
    "plt.scatter(x_axis,y_axis, edgecolor=\"black\", linewidth=1, marker=\"o\", alpha=1.0, label=\"Cities\")\n",
    "\n",
    "# Incorporate the other graph properties\n",
    "plt.title(\"City Latitude Vs. Max Temperature(%s)\")\n",
    "plt.ylabel(\"Max Temperature (F)\")\n",
    "plt.xlabel(\"Latitude\")\n",
    "plt.grid(True)\n",
    "\n",
    "\n",
    "# Show plot\n",
    "plt.show()\n"
   ]
  },
  {
   "cell_type": "markdown",
   "metadata": {},
   "source": [
    "#### Latitude Vs. Humidity"
   ]
  },
  {
   "cell_type": "code",
   "execution_count": 10,
   "metadata": {},
   "outputs": [
    {
     "data": {
      "image/png": "[encoded data removed]",
      "text/plain": [
       "<Figure size 432x288 with 1 Axes>"
      ]
     },
     "metadata": {
      "needs_background": "light"
     },
     "output_type": "display_data"
    }
   ],
   "source": [
    "# Build the scatter plots for latitude vs. humidity\n",
    "x_axis = city_data_df['Lat']\n",
    "y_axis = city_data_df['Humidity']\n",
    "\n",
    "plt.scatter(x_axis,y_axis, edgecolor=\"black\", linewidth=1, marker=\"o\", alpha=1.0, label=\"Cities\")\n",
    "\n",
    "# Incorporate the other graph properties\n",
    "plt.title(\"City Latitude Vs. Humidity(%s)\")\n",
    "plt.ylabel(\"Humidity\")\n",
    "plt.xlabel(\"Latitude\")\n",
    "plt.grid(True)\n",
    "\n",
    "\n",
    "# Show plot\n",
    "plt.show()"
   ]
  },
  {
   "cell_type": "markdown",
   "metadata": {},
   "source": [
    "#### Latitude Vs. Cloudiness"
   ]
  },
  {
   "cell_type": "code",
   "execution_count": 11,
   "metadata": {},
   "outputs": [
    {
     "data": {
      "image/png": "[encoded data removed]",
      "text/plain": [
       "<Figure size 432x288 with 1 Axes>"
      ]
     },
     "metadata": {
      "needs_background": "light"
     },
     "output_type": "display_data"
    }
   ],
   "source": [
    "# Build the scatter plots for latitude vs. cloudiness\n",
    "x_axis = city_data_df['Lat']\n",
    "y_axis = city_data_df['Cloudiness']\n",
    "\n",
    "plt.scatter(x_axis,y_axis, edgecolor=\"black\", linewidth=1, marker=\"o\", alpha=1.0, label=\"Cities\")\n",
    "\n",
    "# Incorporate the other graph properties\n",
    "plt.title(\"City Latitude Vs. Cloudiness(%s)\")\n",
    "plt.ylabel(\"Cloudiness\")\n",
    "plt.xlabel(\"Latitude\")\n",
    "plt.grid(True)\n",
    "\n",
    "\n",
    "# Show plot\n",
    "plt.show()"
   ]
  },
  {
   "cell_type": "markdown",
   "metadata": {},
   "source": [
    "#### Latitude vs. Wind Speed Plot"
   ]
  },
  {
   "cell_type": "code",
   "execution_count": 12,
   "metadata": {},
   "outputs": [
    {
     "data": {
      "image/png": "[encoded data removed]",
      "text/plain": [
       "<Figure size 432x288 with 1 Axes>"
      ]
     },
     "metadata": {
      "needs_background": "light"
     },
     "output_type": "display_data"
    }
   ],
   "source": [
    "# Build the scatter plots for latitude vs. wind speed\n",
    "x_axis = city_data_df['Lat']\n",
    "y_axis = city_data_df['Wind Speed']\n",
    "\n",
    "plt.scatter(x_axis,y_axis, edgecolor=\"black\", linewidth=1, marker=\"o\", alpha=1.0, label=\"Cities\")\n",
    "\n",
    "# Incorporate the other graph properties\n",
    "plt.title(\"City Latitude Vs.Wind Speed (%s)\")\n",
    "plt.ylabel(\"Wind Speed mph\")\n",
    "plt.xlabel(\"Latitude\")\n",
    "plt.grid(True)\n",
    "\n",
    "\n",
    "# Show plot\n",
    "plt.show()"
   ]
  },
  {
   "cell_type": "markdown",
   "metadata": {},
   "source": [
    "---\n",
    "\n",
    "## Requirement 2: Compute Linear Regression for Each Relationship\n"
   ]
  },
  {
   "cell_type": "code",
   "execution_count": 13,
   "metadata": {},
   "outputs": [],
   "source": [
    "def plot_linear_regression(x_values,y_values,title,text_coordinates):\n",
    "    \n",
    "    (slope, intercept, rvalue, pvalue, stderr) = linregress (x_values,y_values)\n",
    "    regress_values = x_values * slope + intercept\n",
    "    line_eq = \"y = \" + str(round(slope,2)) + \" x + \" + str(round(intercept,2))\n",
    "    \n",
    "    # Plot\n",
    "    plt.scatter(x_values,y_values)\n",
    "    plt.plot(x_values, regress_values, \"r-\")\n",
    "    plt.annotate(line_eq,text_coordinates, fontsize=15, color=\"red\")\n",
    "    plt.xlabel(\"Latitude\")\n",
    "    plt.ylabel(\"Title\")\n",
    "    print(f\"The r-squared is: {rvalue}\")\n",
    "    plt.show()"
   ]
  },
  {
   "cell_type": "code",
   "execution_count": 14,
   "metadata": {},
   "outputs": [
    {
     "data": {
      "text/html": [
       "<div>\n",
       "<style scoped>\n",
       "    .dataframe tbody tr th:only-of-type {\n",
       "        vertical-align: middle;\n",
       "    }\n",
       "\n",
       "    .dataframe tbody tr th {\n",
       "        vertical-align: top;\n",
       "    }\n",
       "\n",
       "    .dataframe thead th {\n",
       "        text-align: right;\n",
       "    }\n",
       "</style>\n",
       "<table border=\"1\" class=\"dataframe\">\n",
       "  <thead>\n",
       "    <tr style=\"text-align: right;\">\n",
       "      <th></th>\n",
       "      <th>City</th>\n",
       "      <th>Lat</th>\n",
       "      <th>Lng</th>\n",
       "      <th>Max Temp</th>\n",
       "      <th>Humidity</th>\n",
       "      <th>Cloudiness</th>\n",
       "      <th>Wind Speed</th>\n",
       "      <th>Country</th>\n",
       "      <th>Date</th>\n",
       "    </tr>\n",
       "    <tr>\n",
       "      <th>City_ID</th>\n",
       "      <th></th>\n",
       "      <th></th>\n",
       "      <th></th>\n",
       "      <th></th>\n",
       "      <th></th>\n",
       "      <th></th>\n",
       "      <th></th>\n",
       "      <th></th>\n",
       "      <th></th>\n",
       "    </tr>\n",
       "  </thead>\n",
       "  <tbody>\n",
       "    <tr>\n",
       "      <th>1</th>\n",
       "      <td>peniche</td>\n",
       "      <td>39.3558</td>\n",
       "      <td>-9.3811</td>\n",
       "      <td>49.44</td>\n",
       "      <td>76</td>\n",
       "      <td>4</td>\n",
       "      <td>7.11</td>\n",
       "      <td>PT</td>\n",
       "      <td>1675807397</td>\n",
       "    </tr>\n",
       "    <tr>\n",
       "      <th>2</th>\n",
       "      <td>belaya gora</td>\n",
       "      <td>68.5333</td>\n",
       "      <td>146.4167</td>\n",
       "      <td>-46.50</td>\n",
       "      <td>100</td>\n",
       "      <td>96</td>\n",
       "      <td>2.57</td>\n",
       "      <td>RU</td>\n",
       "      <td>1675807182</td>\n",
       "    </tr>\n",
       "    <tr>\n",
       "      <th>3</th>\n",
       "      <td>safford</td>\n",
       "      <td>32.8340</td>\n",
       "      <td>-109.7076</td>\n",
       "      <td>58.75</td>\n",
       "      <td>24</td>\n",
       "      <td>75</td>\n",
       "      <td>8.01</td>\n",
       "      <td>US</td>\n",
       "      <td>1675807405</td>\n",
       "    </tr>\n",
       "    <tr>\n",
       "      <th>7</th>\n",
       "      <td>madera</td>\n",
       "      <td>37.1666</td>\n",
       "      <td>-119.8343</td>\n",
       "      <td>62.76</td>\n",
       "      <td>84</td>\n",
       "      <td>74</td>\n",
       "      <td>3.27</td>\n",
       "      <td>US</td>\n",
       "      <td>1675807393</td>\n",
       "    </tr>\n",
       "    <tr>\n",
       "      <th>9</th>\n",
       "      <td>ponta do sol</td>\n",
       "      <td>32.6667</td>\n",
       "      <td>-17.1000</td>\n",
       "      <td>60.01</td>\n",
       "      <td>63</td>\n",
       "      <td>13</td>\n",
       "      <td>4.54</td>\n",
       "      <td>PT</td>\n",
       "      <td>1675807413</td>\n",
       "    </tr>\n",
       "  </tbody>\n",
       "</table>\n",
       "</div>"
      ],
      "text/plain": [
       "                 City      Lat       Lng  Max Temp  Humidity  Cloudiness  \\\n",
       "City_ID                                                                    \n",
       "1             peniche  39.3558   -9.3811     49.44        76           4   \n",
       "2         belaya gora  68.5333  146.4167    -46.50       100          96   \n",
       "3             safford  32.8340 -109.7076     58.75        24          75   \n",
       "7              madera  37.1666 -119.8343     62.76        84          74   \n",
       "9        ponta do sol  32.6667  -17.1000     60.01        63          13   \n",
       "\n",
       "         Wind Speed Country        Date  \n",
       "City_ID                                  \n",
       "1              7.11      PT  1675807397  \n",
       "2              2.57      RU  1675807182  \n",
       "3              8.01      US  1675807405  \n",
       "7              3.27      US  1675807393  \n",
       "9              4.54      PT  1675807413  "
      ]
     },
     "execution_count": 14,
     "metadata": {},
     "output_type": "execute_result"
    }
   ],
   "source": [
    "# Create a DataFrame with the Northern Hemisphere data (Latitude >= 0)\n",
    "northern_hemi_df = city_data_df.loc[(city_data_df[\"Lat\"] >= 0)]\n",
    "\n",
    "# Display sample data\n",
    "northern_hemi_df.head()"
   ]
  },
  {
   "cell_type": "code",
   "execution_count": 15,
   "metadata": {},
   "outputs": [
    {
     "data": {
      "text/html": [
       "<div>\n",
       "<style scoped>\n",
       "    .dataframe tbody tr th:only-of-type {\n",
       "        vertical-align: middle;\n",
       "    }\n",
       "\n",
       "    .dataframe tbody tr th {\n",
       "        vertical-align: top;\n",
       "    }\n",
       "\n",
       "    .dataframe thead th {\n",
       "        text-align: right;\n",
       "    }\n",
       "</style>\n",
       "<table border=\"1\" class=\"dataframe\">\n",
       "  <thead>\n",
       "    <tr style=\"text-align: right;\">\n",
       "      <th></th>\n",
       "      <th>City</th>\n",
       "      <th>Lat</th>\n",
       "      <th>Lng</th>\n",
       "      <th>Max Temp</th>\n",
       "      <th>Humidity</th>\n",
       "      <th>Cloudiness</th>\n",
       "      <th>Wind Speed</th>\n",
       "      <th>Country</th>\n",
       "      <th>Date</th>\n",
       "    </tr>\n",
       "    <tr>\n",
       "      <th>City_ID</th>\n",
       "      <th></th>\n",
       "      <th></th>\n",
       "      <th></th>\n",
       "      <th></th>\n",
       "      <th></th>\n",
       "      <th></th>\n",
       "      <th></th>\n",
       "      <th></th>\n",
       "      <th></th>\n",
       "    </tr>\n",
       "  </thead>\n",
       "  <tbody>\n",
       "    <tr>\n",
       "      <th>0</th>\n",
       "      <td>port alfred</td>\n",
       "      <td>-33.5906</td>\n",
       "      <td>26.8910</td>\n",
       "      <td>70.18</td>\n",
       "      <td>91</td>\n",
       "      <td>100</td>\n",
       "      <td>1.99</td>\n",
       "      <td>ZA</td>\n",
       "      <td>1675807397</td>\n",
       "    </tr>\n",
       "    <tr>\n",
       "      <th>4</th>\n",
       "      <td>chuy</td>\n",
       "      <td>-33.6971</td>\n",
       "      <td>-53.4616</td>\n",
       "      <td>75.85</td>\n",
       "      <td>66</td>\n",
       "      <td>0</td>\n",
       "      <td>10.78</td>\n",
       "      <td>UY</td>\n",
       "      <td>1675807406</td>\n",
       "    </tr>\n",
       "    <tr>\n",
       "      <th>5</th>\n",
       "      <td>mataura</td>\n",
       "      <td>-46.1927</td>\n",
       "      <td>168.8643</td>\n",
       "      <td>52.48</td>\n",
       "      <td>83</td>\n",
       "      <td>87</td>\n",
       "      <td>9.78</td>\n",
       "      <td>NZ</td>\n",
       "      <td>1675807406</td>\n",
       "    </tr>\n",
       "    <tr>\n",
       "      <th>6</th>\n",
       "      <td>busselton</td>\n",
       "      <td>-33.6500</td>\n",
       "      <td>115.3333</td>\n",
       "      <td>62.69</td>\n",
       "      <td>84</td>\n",
       "      <td>27</td>\n",
       "      <td>9.62</td>\n",
       "      <td>AU</td>\n",
       "      <td>1675807406</td>\n",
       "    </tr>\n",
       "    <tr>\n",
       "      <th>8</th>\n",
       "      <td>mar del plata</td>\n",
       "      <td>-38.0023</td>\n",
       "      <td>-57.5575</td>\n",
       "      <td>75.22</td>\n",
       "      <td>88</td>\n",
       "      <td>40</td>\n",
       "      <td>18.01</td>\n",
       "      <td>AR</td>\n",
       "      <td>1675807118</td>\n",
       "    </tr>\n",
       "  </tbody>\n",
       "</table>\n",
       "</div>"
      ],
      "text/plain": [
       "                  City      Lat       Lng  Max Temp  Humidity  Cloudiness  \\\n",
       "City_ID                                                                     \n",
       "0          port alfred -33.5906   26.8910     70.18        91         100   \n",
       "4                 chuy -33.6971  -53.4616     75.85        66           0   \n",
       "5              mataura -46.1927  168.8643     52.48        83          87   \n",
       "6            busselton -33.6500  115.3333     62.69        84          27   \n",
       "8        mar del plata -38.0023  -57.5575     75.22        88          40   \n",
       "\n",
       "         Wind Speed Country        Date  \n",
       "City_ID                                  \n",
       "0              1.99      ZA  1675807397  \n",
       "4             10.78      UY  1675807406  \n",
       "5              9.78      NZ  1675807406  \n",
       "6              9.62      AU  1675807406  \n",
       "8             18.01      AR  1675807118  "
      ]
     },
     "execution_count": 15,
     "metadata": {},
     "output_type": "execute_result"
    }
   ],
   "source": [
    "# Create a DataFrame with the Southern Hemisphere data (Latitude < 0)\n",
    "southern_hemi_df = city_data_df.loc[(city_data_df[\"Lat\"] <0)]\n",
    "\n",
    "# Display sample data\n",
    "southern_hemi_df.head()"
   ]
  },
  {
   "cell_type": "markdown",
   "metadata": {},
   "source": [
    "###  Temperature vs. Latitude Linear Regression Plot"
   ]
  },
  {
   "cell_type": "code",
   "execution_count": 16,
   "metadata": {},
   "outputs": [
    {
     "name": "stdout",
     "output_type": "stream",
     "text": [
      "The r-squared is: -0.852635587342209\n"
     ]
    },
    {
     "data": {
      "image/png": "[encoded data removed]",
      "text/plain": [
       "<Figure size 432x288 with 1 Axes>"
      ]
     },
     "metadata": {
      "needs_background": "light"
     },
     "output_type": "display_data"
    }
   ],
   "source": [
    "# Linear regression on Northern Hemisphere\n",
    "x_values = northern_hemi_df [\"Lat\"]\n",
    "y_values = northern_hemi_df [\"Max Temp\"]\n",
    "plot_linear_regression(x_values,y_values, 'Max Temp', (6,30))"
   ]
  },
  {
   "cell_type": "code",
   "execution_count": 17,
   "metadata": {},
   "outputs": [
    {
     "name": "stdout",
     "output_type": "stream",
     "text": [
      "The r-squared is: 0.3334219828106544\n"
     ]
    },
    {
     "data": {
      "image/png": "[encoded data removed]",
      "text/plain": [
       "<Figure size 432x288 with 1 Axes>"
      ]
     },
     "metadata": {
      "needs_background": "light"
     },
     "output_type": "display_data"
    }
   ],
   "source": [
    "# Linear regression on Southern Hemisphere\n",
    "x_values = southern_hemi_df [\"Lat\"]\n",
    "y_values = southern_hemi_df [\"Max Temp\"]\n",
    "plot_linear_regression(x_values,y_values, 'Max Temp', (-30,40))"
   ]
  },
  {
   "cell_type": "markdown",
   "metadata": {},
   "source": [
    "**Discussion about the linear relationship:** YOUR RESPONSE HERE"
   ]
  },
  {
   "cell_type": "markdown",
   "metadata": {},
   "source": [
    "### Humidity vs. Latitude Linear Regression Plot"
   ]
  },
  {
   "cell_type": "code",
   "execution_count": 18,
   "metadata": {},
   "outputs": [
    {
     "name": "stdout",
     "output_type": "stream",
     "text": [
      "The r-squared is: 0.43355369453471454\n"
     ]
    },
    {
     "data": {
      "image/png": "[encoded data removed]",
      "text/plain": [
       "<Figure size 432x288 with 1 Axes>"
      ]
     },
     "metadata": {
      "needs_background": "light"
     },
     "output_type": "display_data"
    }
   ],
   "source": [
    "# Northern Hemisphere\n",
    "x_values = northern_hemi_df [\"Lat\"]\n",
    "y_values = northern_hemi_df [\"Humidity\"]\n",
    "plot_linear_regression(x_values,y_values, 'Humidity', (40,10))"
   ]
  },
  {
   "cell_type": "code",
   "execution_count": 19,
   "metadata": {},
   "outputs": [
    {
     "name": "stdout",
     "output_type": "stream",
     "text": [
      "The r-squared is: 0.4222161748485024\n"
     ]
    },
    {
     "data": {
      "image/png": "[encoded data removed]",
      "text/plain": [
       "<Figure size 432x288 with 1 Axes>"
      ]
     },
     "metadata": {
      "needs_background": "light"
     },
     "output_type": "display_data"
    }
   ],
   "source": [
    "# Southern Hemisphere\n",
    "x_values = southern_hemi_df [\"Lat\"]\n",
    "y_values = southern_hemi_df [\"Humidity\"]\n",
    "plot_linear_regression(x_values,y_values, 'Humidity', (-30,150))"
   ]
  },
  {
   "cell_type": "markdown",
   "metadata": {},
   "source": [
    "**Discussion about the linear relationship:** YOUR RESPONSE HERE"
   ]
  },
  {
   "cell_type": "markdown",
   "metadata": {},
   "source": [
    "### Cloudiness vs. Latitude Linear Regression Plot"
   ]
  },
  {
   "cell_type": "code",
   "execution_count": 20,
   "metadata": {},
   "outputs": [
    {
     "name": "stdout",
     "output_type": "stream",
     "text": [
      "The r-squared is: 0.25285715915322377\n"
     ]
    },
    {
     "data": {
      "image/png": "[encoded data removed]",
      "text/plain": [
       "<Figure size 432x288 with 1 Axes>"
      ]
     },
     "metadata": {
      "needs_background": "light"
     },
     "output_type": "display_data"
    }
   ],
   "source": [
    "# Northern Hemisphere\n",
    "x_values = northern_hemi_df [\"Lat\"]\n",
    "y_values = northern_hemi_df [\"Cloudiness\"]\n",
    "plot_linear_regression(x_values,y_values, 'Cloudiness', (40,10))"
   ]
  },
  {
   "cell_type": "code",
   "execution_count": 21,
   "metadata": {},
   "outputs": [
    {
     "name": "stdout",
     "output_type": "stream",
     "text": [
      "The r-squared is: 0.35083447692417524\n"
     ]
    },
    {
     "data": {
      "image/png": "[encoded data removed]",
      "text/plain": [
       "<Figure size 432x288 with 1 Axes>"
      ]
     },
     "metadata": {
      "needs_background": "light"
     },
     "output_type": "display_data"
    }
   ],
   "source": [
    "# Southern Hemisphere\n",
    "x_values = southern_hemi_df [\"Lat\"]\n",
    "y_values = southern_hemi_df [\"Cloudiness\"]\n",
    "plot_linear_regression(x_values,y_values, 'Cloudiness', (-30,30))"
   ]
  },
  {
   "cell_type": "markdown",
   "metadata": {},
   "source": [
    "**Discussion about the linear relationship:** YOUR RESPONSE HERE"
   ]
  },
  {
   "cell_type": "markdown",
   "metadata": {},
   "source": [
    "### Wind Speed vs. Latitude Linear Regression Plot"
   ]
  },
  {
   "cell_type": "code",
   "execution_count": 22,
   "metadata": {},
   "outputs": [
    {
     "name": "stdout",
     "output_type": "stream",
     "text": [
      "The r-squared is: 0.0963118214789228\n"
     ]
    },
    {
     "data": {
      "image/png": "[encoded data removed]",
      "text/plain": [
       "<Figure size 432x288 with 1 Axes>"
      ]
     },
     "metadata": {
      "needs_background": "light"
     },
     "output_type": "display_data"
    }
   ],
   "source": [
    "# Northern Hemisphere\n",
    "x_values = northern_hemi_df [\"Lat\"]\n",
    "y_values = northern_hemi_df [\"Wind Speed\"]\n",
    "plot_linear_regression(x_values,y_values, 'Wind Speed', (40,25))"
   ]
  },
  {
   "cell_type": "code",
   "execution_count": 23,
   "metadata": {},
   "outputs": [
    {
     "name": "stdout",
     "output_type": "stream",
     "text": [
      "The r-squared is: -0.3784331512986635\n"
     ]
    },
    {
     "data": {
      "image/png": "[encoded data removed]",
      "text/plain": [
       "<Figure size 432x288 with 1 Axes>"
      ]
     },
     "metadata": {
      "needs_background": "light"
     },
     "output_type": "display_data"
    }
   ],
   "source": [
    "# Southern Hemisphere\n",
    "x_values = southern_hemi_df [\"Lat\"]\n",
    "y_values = southern_hemi_df [\"Wind Speed\"]\n",
    "plot_linear_regression(x_values,y_values, 'Wind Speed', (-30,30))"
   ]
  },
  {
   "cell_type": "code",
   "execution_count": null,
   "metadata": {},
   "outputs": [],
   "source": []
  }
 ],
 "metadata": {
  "anaconda-cloud": {},
  "kernel_info": {
   "name": "python3"
  },
  "kernelspec": {
   "display_name": "Python 3 (ipykernel)",
   "language": "python",
   "name": "python3"
  },
  "language_info": {
   "codemirror_mode": {
    "name": "ipython",
    "version": 3
   },
   "file_extension": ".py",
   "mimetype": "text/x-python",
   "name": "python",
   "nbconvert_exporter": "python",
   "pygments_lexer": "ipython3",
   "version": "3.7.7"
  },
  "latex_envs": {
   "LaTeX_envs_menu_present": true,
   "autoclose": false,
   "autocomplete": true,
   "bibliofile": "biblio.bib",
   "cite_by": "apalike",
   "current_citInitial": 1,
   "eqLabelWithNumbers": true,
   "eqNumInitial": 1,
   "hotkeys": {
    "equation": "Ctrl-E",
    "itemize": "Ctrl-I"
   },
   "labels_anchors": false,
   "latex_user_defs": false,
   "report_style_numbering": false,
   "user_envs_cfg": false
  },
  "nteract": {
   "version": "0.12.3"
  }
 },
 "nbformat": 4,
 "nbformat_minor": 4
}
